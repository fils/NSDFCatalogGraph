{
 "cells": [
  {
   "cell_type": "markdown",
   "id": "bc053107",
   "metadata": {},
   "source": [
    "# NSDF Queries\n",
    "\n",
    "\n",
    "## Notes\n",
    "\n",
    "Some simple exploration of the basic graphs propertis.  \n"
   ]
  },
  {
   "cell_type": "markdown",
   "id": "6e2db460",
   "metadata": {
    "tags": []
   },
   "source": [
    "## Setup and inits"
   ]
  },
  {
   "cell_type": "markdown",
   "id": "fe360cfb",
   "metadata": {},
   "source": [
    "### Imports"
   ]
  },
  {
   "cell_type": "code",
   "execution_count": 1,
   "id": "18cc5c27",
   "metadata": {
    "ExecuteTime": {
     "end_time": "2023-04-24T12:52:13.585397Z",
     "start_time": "2023-04-24T12:52:13.544291Z"
    },
    "tags": []
   },
   "outputs": [
    {
     "name": "stderr",
     "output_type": "stream",
     "text": [
      "/home/fils/.local/lib/python3.10/site-packages/rdflib_jsonld/__init__.py:9: DeprecationWarning: The rdflib-jsonld package has been integrated into rdflib as of rdflib==6.0.1.  Please remove rdflib-jsonld from your project's dependencies.\n",
      "  warnings.warn(\n"
     ]
    }
   ],
   "source": [
    "import warnings\n",
    "warnings.simplefilter(action='ignore', category=FutureWarning)\n",
    "\n",
    "from SPARQLWrapper import SPARQLWrapper, JSON\n",
    "import pandas as pd\n",
    "import json"
   ]
  },
  {
   "cell_type": "markdown",
   "id": "9dd04c65",
   "metadata": {},
   "source": [
    "### Support Functions"
   ]
  },
  {
   "cell_type": "code",
   "execution_count": 2,
   "id": "f8ae0024",
   "metadata": {
    "ExecuteTime": {
     "end_time": "2023-04-24T12:52:14.942441Z",
     "start_time": "2023-04-24T12:52:14.940453Z"
    },
    "collapsed": false,
    "jupyter": {
     "outputs_hidden": false
    },
    "tags": []
   },
   "outputs": [],
   "source": [
    "sparqlep = \"http://localhost:7878/query\""
   ]
  },
  {
   "cell_type": "code",
   "execution_count": 3,
   "id": "c82ffba9",
   "metadata": {
    "ExecuteTime": {
     "end_time": "2023-04-24T12:52:15.873459Z",
     "start_time": "2023-04-24T12:52:15.867349Z"
    },
    "tags": []
   },
   "outputs": [],
   "source": [
    "#@title\n",
    "def get_sparql_dataframe(service, query):\n",
    "    \"\"\"\n",
    "    Helper function to convert SPARQL results into a Pandas data frame.\n",
    "    \"\"\"\n",
    "    sparql = SPARQLWrapper(service)\n",
    "    sparql.setQuery(query)\n",
    "    sparql.setReturnFormat(JSON)\n",
    "    result = sparql.query()\n",
    "\n",
    "    processed_results = json.load(result.response)\n",
    "    cols = processed_results['head']['vars']\n",
    "\n",
    "    out = []\n",
    "    for row in processed_results['results']['bindings']:\n",
    "        item = []\n",
    "        for c in cols:\n",
    "            item.append(row.get(c, {}).get('value'))\n",
    "        out.append(item)\n",
    "\n",
    "    return pd.DataFrame(out, columns=cols)"
   ]
  },
  {
   "cell_type": "markdown",
   "id": "012c531f",
   "metadata": {},
   "source": [
    "## Queries\n",
    "\n",
    "What follows is a set of queries designed to provide a feel for the OIH graph"
   ]
  },
  {
   "cell_type": "markdown",
   "id": "e084e5f4",
   "metadata": {},
   "source": [
    "### Type Count\n",
    "\n",
    "How many types are there?"
   ]
  },
  {
   "cell_type": "code",
   "execution_count": 4,
   "id": "9235ceea",
   "metadata": {
    "ExecuteTime": {
     "end_time": "2023-04-24T12:52:18.538709Z",
     "start_time": "2023-04-24T12:52:17.973243Z"
    },
    "collapsed": false,
    "jupyter": {
     "outputs_hidden": false
    },
    "tags": []
   },
   "outputs": [
    {
     "data": {
      "text/html": [
       "<div>\n",
       "<style scoped>\n",
       "    .dataframe tbody tr th:only-of-type {\n",
       "        vertical-align: middle;\n",
       "    }\n",
       "\n",
       "    .dataframe tbody tr th {\n",
       "        vertical-align: top;\n",
       "    }\n",
       "\n",
       "    .dataframe thead th {\n",
       "        text-align: right;\n",
       "    }\n",
       "</style>\n",
       "<table border=\"1\" class=\"dataframe\">\n",
       "  <thead>\n",
       "    <tr style=\"text-align: right;\">\n",
       "      <th></th>\n",
       "      <th>o</th>\n",
       "      <th>oCount</th>\n",
       "    </tr>\n",
       "  </thead>\n",
       "  <tbody>\n",
       "    <tr>\n",
       "      <th>7</th>\n",
       "      <td>http://schema.org/DataDownload</td>\n",
       "      <td>973748</td>\n",
       "    </tr>\n",
       "    <tr>\n",
       "      <th>2</th>\n",
       "      <td>http://schema.org/Organization</td>\n",
       "      <td>348233</td>\n",
       "    </tr>\n",
       "    <tr>\n",
       "      <th>6</th>\n",
       "      <td>http://schema.org/Person</td>\n",
       "      <td>247262</td>\n",
       "    </tr>\n",
       "    <tr>\n",
       "      <th>4</th>\n",
       "      <td>http://schema.org/Dataset</td>\n",
       "      <td>94023</td>\n",
       "    </tr>\n",
       "    <tr>\n",
       "      <th>1</th>\n",
       "      <td>http://schema.org/CreativeWork</td>\n",
       "      <td>60155</td>\n",
       "    </tr>\n",
       "    <tr>\n",
       "      <th>5</th>\n",
       "      <td>http://schema.org/DataCatalog</td>\n",
       "      <td>31287</td>\n",
       "    </tr>\n",
       "    <tr>\n",
       "      <th>3</th>\n",
       "      <td>http://schema.org/Place</td>\n",
       "      <td>303</td>\n",
       "    </tr>\n",
       "    <tr>\n",
       "      <th>0</th>\n",
       "      <td>http://schema.org/GeoShape</td>\n",
       "      <td>172</td>\n",
       "    </tr>\n",
       "    <tr>\n",
       "      <th>8</th>\n",
       "      <td>http://schema.org/GeoCoordinates</td>\n",
       "      <td>131</td>\n",
       "    </tr>\n",
       "  </tbody>\n",
       "</table>\n",
       "</div>"
      ],
      "text/plain": [
       "                                  o  oCount\n",
       "7    http://schema.org/DataDownload  973748\n",
       "2    http://schema.org/Organization  348233\n",
       "6          http://schema.org/Person  247262\n",
       "4         http://schema.org/Dataset   94023\n",
       "1    http://schema.org/CreativeWork   60155\n",
       "5     http://schema.org/DataCatalog   31287\n",
       "3           http://schema.org/Place     303\n",
       "0        http://schema.org/GeoShape     172\n",
       "8  http://schema.org/GeoCoordinates     131"
      ]
     },
     "execution_count": 4,
     "metadata": {},
     "output_type": "execute_result"
    }
   ],
   "source": [
    "rq_pcount = \"\"\"PREFIX rdfs: <http://www.w3.org/2000/01/rdf-schema#>\n",
    "PREFIX schema: <http://schema.org/>\n",
    "\n",
    "SELECT ?o (COUNT(?o) as ?oCount)\n",
    "WHERE\n",
    "{\n",
    "    graph ?g { ?s <http://www.w3.org/1999/02/22-rdf-syntax-ns#type> ?o} .\n",
    "}\n",
    "GROUP BY ?o\n",
    "\"\"\"\n",
    "dfc = get_sparql_dataframe(sparqlep, rq_pcount)\n",
    "dfc['oCount'] = dfc[\"oCount\"].astype(int) # convert count to int\n",
    "# dfc.set_index('p', inplace=True)\n",
    "dfc_sorted = dfc.sort_values('oCount', ascending=False)\n",
    "dfc_sorted.head(40)"
   ]
  },
  {
   "cell_type": "code",
   "execution_count": 5,
   "id": "4e4d71e4",
   "metadata": {
    "ExecuteTime": {
     "end_time": "2023-04-24T12:52:19.475556Z",
     "start_time": "2023-04-24T12:52:19.417197Z"
    },
    "collapsed": false,
    "jupyter": {
     "outputs_hidden": false
    },
    "tags": []
   },
   "outputs": [
    {
     "data": {
      "image/png": "[encoded data removed]",
      "text/plain": [
       "<Figure size 720x720 with 1 Axes>"
      ]
     },
     "metadata": {},
     "output_type": "display_data"
    }
   ],
   "source": [
    "rcount = len(dfc_sorted)\n",
    "ts = dfc_sorted.tail(38)['oCount'].sum()\n",
    "\n",
    "\n",
    "hs = dfc_sorted.head(5)\n",
    "hs.append({'o':'Other','oCount':ts}, ignore_index=True)\n",
    "hs.set_index('o', inplace=True)\n",
    "\n",
    "plot = hs.plot.pie(y='oCount',x='o',legend=False, figsize=(10, 10))\n"
   ]
  },
  {
   "cell_type": "markdown",
   "id": "33ab147f",
   "metadata": {
    "tags": []
   },
   "source": [
    "### Predicate Counts\n",
    "\n",
    "This gives an overview of unique predicates that connect a subject to an object.  This gives us both an idea of the properties we are using on things and count of their usage.\n"
   ]
  },
  {
   "cell_type": "code",
   "execution_count": 6,
   "id": "d646db2d",
   "metadata": {
    "ExecuteTime": {
     "end_time": "2023-04-24T12:52:26.436987Z",
     "start_time": "2023-04-24T12:52:22.420485Z"
    },
    "tags": []
   },
   "outputs": [
    {
     "data": {
      "text/html": [
       "<div>\n",
       "<style scoped>\n",
       "    .dataframe tbody tr th:only-of-type {\n",
       "        vertical-align: middle;\n",
       "    }\n",
       "\n",
       "    .dataframe tbody tr th {\n",
       "        vertical-align: top;\n",
       "    }\n",
       "\n",
       "    .dataframe thead th {\n",
       "        text-align: right;\n",
       "    }\n",
       "</style>\n",
       "<table border=\"1\" class=\"dataframe\">\n",
       "  <thead>\n",
       "    <tr style=\"text-align: right;\">\n",
       "      <th></th>\n",
       "      <th>p</th>\n",
       "      <th>pCount</th>\n",
       "    </tr>\n",
       "  </thead>\n",
       "  <tbody>\n",
       "    <tr>\n",
       "      <th>35</th>\n",
       "      <td>http://schema.org/name</td>\n",
       "      <td>1804227</td>\n",
       "    </tr>\n",
       "    <tr>\n",
       "      <th>5</th>\n",
       "      <td>http://www.w3.org/1999/02/22-rdf-syntax-ns#type</td>\n",
       "      <td>1755314</td>\n",
       "    </tr>\n",
       "    <tr>\n",
       "      <th>16</th>\n",
       "      <td>http://schema.org/distribution</td>\n",
       "      <td>973748</td>\n",
       "    </tr>\n",
       "    <tr>\n",
       "      <th>28</th>\n",
       "      <td>http://schema.org/contentUrl</td>\n",
       "      <td>947412</td>\n",
       "    </tr>\n",
       "    <tr>\n",
       "      <th>8</th>\n",
       "      <td>http://schema.org/contentSize</td>\n",
       "      <td>926206</td>\n",
       "    </tr>\n",
       "    <tr>\n",
       "      <th>21</th>\n",
       "      <td>http://schema.org/fileFormat</td>\n",
       "      <td>912198</td>\n",
       "    </tr>\n",
       "    <tr>\n",
       "      <th>11</th>\n",
       "      <td>http://schema.org/description</td>\n",
       "      <td>474670</td>\n",
       "    </tr>\n",
       "    <tr>\n",
       "      <th>32</th>\n",
       "      <td>http://schema.org/keywords</td>\n",
       "      <td>468037</td>\n",
       "    </tr>\n",
       "    <tr>\n",
       "      <th>29</th>\n",
       "      <td>http://schema.org/identifier</td>\n",
       "      <td>460503</td>\n",
       "    </tr>\n",
       "    <tr>\n",
       "      <th>30</th>\n",
       "      <td>http://schema.org/affiliation</td>\n",
       "      <td>322236</td>\n",
       "    </tr>\n",
       "    <tr>\n",
       "      <th>1</th>\n",
       "      <td>http://schema.org/creator</td>\n",
       "      <td>316826</td>\n",
       "    </tr>\n",
       "    <tr>\n",
       "      <th>13</th>\n",
       "      <td>http://schema.org/familyName</td>\n",
       "      <td>247235</td>\n",
       "    </tr>\n",
       "    <tr>\n",
       "      <th>25</th>\n",
       "      <td>http://schema.org/givenName</td>\n",
       "      <td>247207</td>\n",
       "    </tr>\n",
       "    <tr>\n",
       "      <th>3</th>\n",
       "      <td>http://schema.org/sameAs</td>\n",
       "      <td>237092</td>\n",
       "    </tr>\n",
       "    <tr>\n",
       "      <th>36</th>\n",
       "      <td>http://schema.org/url</td>\n",
       "      <td>129997</td>\n",
       "    </tr>\n",
       "    <tr>\n",
       "      <th>0</th>\n",
       "      <td>http://schema.org/license</td>\n",
       "      <td>126373</td>\n",
       "    </tr>\n",
       "    <tr>\n",
       "      <th>14</th>\n",
       "      <td>http://schema.org/temporalCoverage</td>\n",
       "      <td>88259</td>\n",
       "    </tr>\n",
       "    <tr>\n",
       "      <th>12</th>\n",
       "      <td>http://schema.org/version</td>\n",
       "      <td>78829</td>\n",
       "    </tr>\n",
       "    <tr>\n",
       "      <th>4</th>\n",
       "      <td>http://schema.org/provider</td>\n",
       "      <td>78829</td>\n",
       "    </tr>\n",
       "    <tr>\n",
       "      <th>9</th>\n",
       "      <td>http://schema.org/publisher</td>\n",
       "      <td>78793</td>\n",
       "    </tr>\n",
       "    <tr>\n",
       "      <th>10</th>\n",
       "      <td>http://schema.org/author</td>\n",
       "      <td>70217</td>\n",
       "    </tr>\n",
       "    <tr>\n",
       "      <th>24</th>\n",
       "      <td>http://schema.org/encodingFormat</td>\n",
       "      <td>61550</td>\n",
       "    </tr>\n",
       "    <tr>\n",
       "      <th>31</th>\n",
       "      <td>http://schema.org/spatialCoverage</td>\n",
       "      <td>61072</td>\n",
       "    </tr>\n",
       "    <tr>\n",
       "      <th>33</th>\n",
       "      <td>http://schema.org/legalName</td>\n",
       "      <td>47542</td>\n",
       "    </tr>\n",
       "    <tr>\n",
       "      <th>17</th>\n",
       "      <td>http://schema.org/isAccessibleForFree</td>\n",
       "      <td>47542</td>\n",
       "    </tr>\n",
       "    <tr>\n",
       "      <th>2</th>\n",
       "      <td>http://schema.org/citation</td>\n",
       "      <td>45083</td>\n",
       "    </tr>\n",
       "    <tr>\n",
       "      <th>18</th>\n",
       "      <td>http://schema.org/includedInDataCatalog</td>\n",
       "      <td>31287</td>\n",
       "    </tr>\n",
       "    <tr>\n",
       "      <th>6</th>\n",
       "      <td>http://schema.org/datePublished</td>\n",
       "      <td>31287</td>\n",
       "    </tr>\n",
       "    <tr>\n",
       "      <th>22</th>\n",
       "      <td>http://schema.org/dateModified</td>\n",
       "      <td>31287</td>\n",
       "    </tr>\n",
       "    <tr>\n",
       "      <th>34</th>\n",
       "      <td>http://schema.org/text</td>\n",
       "      <td>22384</td>\n",
       "    </tr>\n",
       "    <tr>\n",
       "      <th>26</th>\n",
       "      <td>http://schema.org/funder</td>\n",
       "      <td>12062</td>\n",
       "    </tr>\n",
       "    <tr>\n",
       "      <th>27</th>\n",
       "      <td>http://schema.org/geo</td>\n",
       "      <td>303</td>\n",
       "    </tr>\n",
       "    <tr>\n",
       "      <th>15</th>\n",
       "      <td>http://schema.org/box</td>\n",
       "      <td>172</td>\n",
       "    </tr>\n",
       "    <tr>\n",
       "      <th>7</th>\n",
       "      <td>http://schema.org/longitude</td>\n",
       "      <td>131</td>\n",
       "    </tr>\n",
       "    <tr>\n",
       "      <th>20</th>\n",
       "      <td>http://schema.org/latitude</td>\n",
       "      <td>131</td>\n",
       "    </tr>\n",
       "    <tr>\n",
       "      <th>23</th>\n",
       "      <td>http://schema.org/schemaVersion</td>\n",
       "      <td>36</td>\n",
       "    </tr>\n",
       "    <tr>\n",
       "      <th>19</th>\n",
       "      <td>http://schema.org/parentOrganization</td>\n",
       "      <td>6</td>\n",
       "    </tr>\n",
       "  </tbody>\n",
       "</table>\n",
       "</div>"
      ],
      "text/plain": [
       "                                                  p   pCount\n",
       "35                           http://schema.org/name  1804227\n",
       "5   http://www.w3.org/1999/02/22-rdf-syntax-ns#type  1755314\n",
       "16                   http://schema.org/distribution   973748\n",
       "28                     http://schema.org/contentUrl   947412\n",
       "8                     http://schema.org/contentSize   926206\n",
       "21                     http://schema.org/fileFormat   912198\n",
       "11                    http://schema.org/description   474670\n",
       "32                       http://schema.org/keywords   468037\n",
       "29                     http://schema.org/identifier   460503\n",
       "30                    http://schema.org/affiliation   322236\n",
       "1                         http://schema.org/creator   316826\n",
       "13                     http://schema.org/familyName   247235\n",
       "25                      http://schema.org/givenName   247207\n",
       "3                          http://schema.org/sameAs   237092\n",
       "36                            http://schema.org/url   129997\n",
       "0                         http://schema.org/license   126373\n",
       "14               http://schema.org/temporalCoverage    88259\n",
       "12                        http://schema.org/version    78829\n",
       "4                        http://schema.org/provider    78829\n",
       "9                       http://schema.org/publisher    78793\n",
       "10                         http://schema.org/author    70217\n",
       "24                 http://schema.org/encodingFormat    61550\n",
       "31                http://schema.org/spatialCoverage    61072\n",
       "33                      http://schema.org/legalName    47542\n",
       "17            http://schema.org/isAccessibleForFree    47542\n",
       "2                        http://schema.org/citation    45083\n",
       "18          http://schema.org/includedInDataCatalog    31287\n",
       "6                   http://schema.org/datePublished    31287\n",
       "22                   http://schema.org/dateModified    31287\n",
       "34                           http://schema.org/text    22384\n",
       "26                         http://schema.org/funder    12062\n",
       "27                            http://schema.org/geo      303\n",
       "15                            http://schema.org/box      172\n",
       "7                       http://schema.org/longitude      131\n",
       "20                       http://schema.org/latitude      131\n",
       "23                  http://schema.org/schemaVersion       36\n",
       "19             http://schema.org/parentOrganization        6"
      ]
     },
     "execution_count": 6,
     "metadata": {},
     "output_type": "execute_result"
    }
   ],
   "source": [
    "rq_pcount = \"\"\"PREFIX rdfs: <http://www.w3.org/2000/01/rdf-schema#>\n",
    "PREFIX schema: <http://schema.org/>\n",
    "\n",
    "SELECT ?p (COUNT(?p) as ?pCount)\n",
    "WHERE\n",
    "{\n",
    " graph ?g { ?s ?p ?o} .\n",
    "}\n",
    "GROUP BY ?p\n",
    "\"\"\"\n",
    "dfc = get_sparql_dataframe(sparqlep, rq_pcount)\n",
    "dfc['pCount'] = dfc[\"pCount\"].astype(int) # convert count to int\n",
    "# dfc.set_index('p', inplace=True)\n",
    "dfc_sorted = dfc.sort_values('pCount', ascending=False)\n",
    "dfc_sorted.head(40)"
   ]
  },
  {
   "cell_type": "code",
   "execution_count": 7,
   "id": "5f2e25c8",
   "metadata": {
    "ExecuteTime": {
     "end_time": "2023-04-24T12:52:27.270398Z",
     "start_time": "2023-04-24T12:52:27.230079Z"
    },
    "tags": []
   },
   "outputs": [],
   "source": [
    "# Looking at the top 10 predicates and seeing the counts for them\n",
    "rcount = len(dfc_sorted)\n",
    "ts = dfc_sorted.tail(38)['pCount'].sum()\n",
    "\n",
    "\n",
    "hs = dfc_sorted.head(10)\n",
    "hs.append({'p':'Other','pCount':ts}, ignore_index=True) \n",
    "hs.set_index('p', inplace=True)\n",
    "# hs.head(10)"
   ]
  },
  {
   "cell_type": "code",
   "execution_count": 8,
   "id": "5f9f124f",
   "metadata": {
    "ExecuteTime": {
     "end_time": "2023-04-24T12:52:27.997816Z",
     "start_time": "2023-04-24T12:52:27.891864Z"
    },
    "tags": []
   },
   "outputs": [
    {
     "data": {
      "image/png": "[encoded data removed]",
      "text/plain": [
       "<Figure size 720x720 with 1 Axes>"
      ]
     },
     "metadata": {},
     "output_type": "display_data"
    }
   ],
   "source": [
    "plot = hs.plot.pie(y='pCount',x='p',legend=False, figsize=(10, 10))"
   ]
  },
  {
   "cell_type": "code",
   "execution_count": null,
   "id": "7aef9f23",
   "metadata": {
    "collapsed": false,
    "jupyter": {
     "outputs_hidden": false
    }
   },
   "outputs": [],
   "source": []
  }
 ],
 "metadata": {
  "interpreter": {
   "hash": "884008db010a4da72f62f471ce341f5399c2c405d8eebc0270fe261741869d85"
  },
  "kernelspec": {
   "display_name": "Python 3 (ipykernel)",
   "language": "python",
   "name": "python3"
  },
  "language_info": {
   "codemirror_mode": {
    "name": "ipython",
    "version": 3
   },
   "file_extension": ".py",
   "mimetype": "text/x-python",
   "name": "python",
   "nbconvert_exporter": "python",
   "pygments_lexer": "ipython3",
   "version": "3.10.8"
  }
 },
 "nbformat": 4,
 "nbformat_minor": 5
}
